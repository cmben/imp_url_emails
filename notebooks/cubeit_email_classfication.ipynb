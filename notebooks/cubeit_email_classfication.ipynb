{
 "cells": [
  {
   "cell_type": "code",
   "execution_count": 2,
   "metadata": {
    "collapsed": false
   },
   "outputs": [],
   "source": [
    "%matplotlib inline\n",
    "import seaborn\n",
    "seaborn.set()\n",
    "import numpy as np\n",
    "import pandas as pd"
   ]
  },
  {
   "cell_type": "code",
   "execution_count": 3,
   "metadata": {
    "collapsed": true
   },
   "outputs": [],
   "source": [
    "import re\n",
    "import nltk\n",
    "from nltk.tokenize import wordpunct_tokenize\n",
    "from nltk.corpus import stopwords\n",
    "from collections import defaultdict"
   ]
  },
  {
   "cell_type": "code",
   "execution_count": null,
   "metadata": {
    "collapsed": false
   },
   "outputs": [],
   "source": [
    "#nltk.download()"
   ]
  },
  {
   "cell_type": "markdown",
   "metadata": {},
   "source": [
    "##Task Description\n",
    "The task is to identify links in email data which are important or relevant to emails, and links which are not important and irrelavant to email. For example, if there is a link in a body of the message regarding work, it should be important. And link which is just a part of the footer, ex, personal blog of the sender, is not so important.\n",
    "\n",
    "Lets use some public dataset for the same. We will be using a spam classification dataset available here http://spamassassin.apache.org/publiccorpus/ ."
   ]
  },
  {
   "cell_type": "code",
   "execution_count": 5,
   "metadata": {
    "collapsed": false
   },
   "outputs": [
    {
     "name": "stdout",
     "output_type": "stream",
     "text": [
      "total 14M\n",
      "-rw-rw-r-- 1 zopnow zopnow 4.9K Oct 11  2002 0001.ea7e79d3153e7469e7a9c3e0af6a357e\n",
      "-rw-rw-r-- 1 zopnow zopnow 3.3K Oct 11  2002 0002.b3120c4bcbf3101e661161ee7efcb8bf\n",
      "-rw-rw-r-- 1 zopnow zopnow 3.9K Oct 11  2002 0003.acfc5ad94bbd27118a0d8685d18c89dd\n",
      "-rw-rw-r-- 1 zopnow zopnow 3.4K Oct 11  2002 0004.e8d5727378ddde5c3be181df593f1712\n",
      "-rw-rw-r-- 1 zopnow zopnow 4.8K Oct 11  2002 0005.8c3b9e9c0f3f183ddaf7592a11b99957\n",
      "-rw-rw-r-- 1 zopnow zopnow 3.3K Oct 11  2002 0006.ee8b0dba12856155222be180ba122058\n",
      "-rw-rw-r-- 1 zopnow zopnow 3.2K Oct 11  2002 0007.c75188382f64b090022fa3b095b020b0\n",
      "-rw-rw-r-- 1 zopnow zopnow 3.8K Oct 11  2002 0008.20bc0b4ba2d99aae1c7098069f611a9b\n",
      "-rw-rw-r-- 1 zopnow zopnow 3.5K Oct 11  2002 0009.435ae292d75abb1ca492dcc2d5cf1570\n",
      "ls: write error\n"
     ]
    }
   ],
   "source": [
    "ls -lh ../easy_ham/ | head"
   ]
  },
  {
   "cell_type": "markdown",
   "metadata": {},
   "source": [
    "Each email has some headers and message body. Headers may be important in some cases such as spam classification, but for the task we are solving, we can get rid of all the headers. \n",
    "Run following python script which parses all messages and extracts only email body. Each email is a long string. And the output is list of emails."
   ]
  },
  {
   "cell_type": "code",
   "execution_count": 6,
   "metadata": {
    "collapsed": false
   },
   "outputs": [],
   "source": [
    "import os\n",
    "import sys\n",
    "\n",
    "def loadAndExtractMessage(filename):\n",
    "    email = open(filename, \"r\")\n",
    "    message = email.readlines()\n",
    "    #This is only applicable if you have headers in email, comment out if you dont have headers.\n",
    "    first_blank_index = message.index('\\n') if '\\n' in message else 0\n",
    "    first_signature_index = min(message.index('-- \\n', first_blank_index) if '-- \\n' in message else len(message),\n",
    "                                message.index('___\\n', first_blank_index) if '___\\n' in message else len(message),\n",
    "                                message.index('--\\n', first_blank_index) if '--\\n' in message else len(message), \n",
    "                                message.index('-----Original Message-----\\n', first_blank_index) if '-----Original Message-----\\n' in message else len(message), \n",
    "                                message.index('________________________________', first_blank_index) if '________________________________' in message else len(message),\n",
    "                                message.index('From: ', first_blank_index) if 'From: ' in message else len(message), \n",
    "                                message.index('Sent from my ', first_blank_index) if 'Sent from my ' in message else len(message))\n",
    "    message = message[(first_blank_index+1):(first_signature_index)]\n",
    "    #cases to handle, remove quoted text\n",
    "    return ''.join(message)\n",
    "\n",
    "def getEmailsFromDir(path):\n",
    "    filelist = os.listdir(path)\n",
    "    filelist = filter(lambda x: x != 'cmds', filelist)\n",
    "    all_messages = [loadAndExtractMessage(os.path.join(path, f)) for f in filelist]\n",
    "    return all_messages"
   ]
  },
  {
   "cell_type": "code",
   "execution_count": 7,
   "metadata": {
    "collapsed": false
   },
   "outputs": [],
   "source": [
    "all_messages = getEmailsFromDir('../easy_ham/')"
   ]
  },
  {
   "cell_type": "code",
   "execution_count": 8,
   "metadata": {
    "collapsed": false
   },
   "outputs": [
    {
     "name": "stdout",
     "output_type": "stream",
     "text": [
      "Hi Kragen,\n",
      "\n",
      "   This is an interesting analysis.  I think that there are a couple\n",
      "of nits I might pick (for example, I don't expect that the market will\n",
      "be well developed with highest bidders for while), I think that the\n",
      "most important issue, which is that end users won't be able to fix\n",
      "their systems, is almost passed over.  I know that you know this, and\n",
      "you allude to it, but your essay is getting passed around, so you\n",
      "might want to add to it bits about the sysadmin and others.\n",
      "\n",
      "   There's one other point which you don't make, which I think is very\n",
      "important, which is that research into defining and addressing classes\n",
      "of vulnerabilities can't happen without libraries of available\n",
      "vulnerability code.  I can think of three researchers into automated\n",
      "methods for addressing vulnerabilities who griped, uninvited, about\n",
      "the quality of the existing vulnerability sites.  Doing research into\n",
      "a set requires that you have enough examples, in the open, that you\n",
      "can define a set, and that the set is added to from time to time so\n",
      "you can make and test predictions.\n",
      "\n",
      "   I feel fairly confident in saying that without full disclosure, we\n",
      "wouldn't have Stackguard, ITS4, Nissus, or snort.  And the security\n",
      "admin's job would be a lot harder.\n",
      "\n",
      "Adam\n",
      "\n",
      "\n",
      "On Thu, Aug 22, 2002 at 08:42:12AM +0200, Eugen Leitl wrote:\n",
      "| -- \n",
      "| -- Eugen* Leitl <a href=\"http://leitl.org\">leitl</a>\n",
      "| ______________________________________________________________\n",
      "| ICBMTO: N48 04'14.8'' E11 36'41.2'' http://eugen.leitl.org\n",
      "| 83E5CA02: EDE4 7193 0833 A96B 07A7  1A88 AA58 0E89 83E5 CA02\n",
      "| \n",
      "| \n",
      "| ---------- Forwarded message ----------\n",
      "| Date: Thu, 22 Aug 2002 00:24:54 -0400 (EDT)\n",
      "| From: Kragen Sitaker <kragen@pobox.com>\n",
      "| To: fork@example.com\n",
      "| Subject: the underground software vulnerability marketplace and its hazards\n",
      "| \n",
      "| On August 7th, an entity known as \"iDEFENSE\" sent out an announcement,\n",
      "| which is appended to this email.  Briefly, \"iDEFENSE\", which bills\n",
      "| itself as \"a global security intelligence company\", is offering cash\n",
      "| for information about security vulnerabilities in computer software\n",
      "| that are not publicly known, especially if you promise not to tell\n",
      "| anyone else.\n",
      "| \n",
      "| If this kind of secret traffic is allowed to continue, it will pose a\n",
      "| very serious threat to our computer communications infrastructure.\n",
      "| \n",
      "| At the moment, the dominant paradigm for computer security research\n",
      "| known as \"full disclosure\"; people who discover security\n",
      "| vulnerabilities in software tell the vendor about them, and a short\n",
      "| while later --- after the vendor has had a chance to fix the problem\n",
      "| --- they publish the information, including code to exploit the\n",
      "| vulnerability, if possible.  \n",
      "| \n",
      "| This method has proven far superior to the old paradigm established by\n",
      "| CERT in the late 1980s, which its proponents might call \"responsible\n",
      "| disclosure\" --- never release working exploit code, and never release\n",
      "| any information on the vulnerability before all vendors have released\n",
      "| a patch.  This procedure often left hundreds of thousands of computers\n",
      "| vulnerable to known bugs for months or years while the vendors worked\n",
      "| on features, and often, even after the patches were released, people\n",
      "| wouldn't apply them because they didn't know how serious the problem\n",
      "| was.\n",
      "| \n",
      "| The underground computer criminal community would often discover and\n",
      "| exploit these same holes for months or years while the \"responsible\n",
      "| disclosure\" process kept their victims, who had no connections in the\n",
      "| underground, vulnerable.\n",
      "| \n",
      "| The problem with this is that vulnerabilities that are widely known\n",
      "| are much less dangerous, because their victims can take steps to\n",
      "| reduce their potential impact --- including disabling software,\n",
      "| turning off vulnerable features, filtering traffic in transit, and\n",
      "| detecting and responding to intrusions.  They are therefore much less\n",
      "| useful to would-be intruders.  Also, software companies usually see\n",
      "| security vulnerabilities in their software as PR problems, and so\n",
      "| prefer to delay publication (and the expense of fixing the bugs) as\n",
      "| long as possible.\n",
      "| \n",
      "| iDEFENSE is offering a new alternative that appears far more dangerous\n",
      "| than either of the two previous paradigms.  They want to be a buyer in\n",
      "| a marketplace for secret software vulnerability information, rewarding\n",
      "| discoverers of vulnerabilities with cash.  \n",
      "| \n",
      "| Not long before, Snosoft, a group of security researchers evidently\n",
      "| including some criminal elements, apparently made an offer to sell the\n",
      "| secrecy of some software vulnerability information to the software\n",
      "| vendor; specifically, they apparently made a private offer to\n",
      "| Hewlett-Packard to keep a vulnerability in HP's Tru64 Unix secret if\n",
      "| HP retained Snosoft's \"consulting services\".  HP considered this\n",
      "| extortion and responded with legal threats, and Snosoft published the\n",
      "| information.\n",
      "| \n",
      "| If this is allowed to happen, it will cause two problems which,\n",
      "| together, add up to a catastrophe.\n",
      "| \n",
      "| First, secret software vulnerability information will be available to\n",
      "| the highest bidder, and to nobody else.  For reasons explained later,\n",
      "| I think the highest bidders will generally be organized crime\n",
      "| syndicates, although that will not be obvious to the sellers.\n",
      "| \n",
      "| Second, finding software vulnerabilities and keeping them secret will\n",
      "| become lucrative for many more talented people.  The result will be\n",
      "| --- just as in the \"responsible disclosure\" days --- that the good\n",
      "| guys will remain vulnerable for months and years, while the majority\n",
      "| of current vulnerabilities are kept secret.\n",
      "| \n",
      "| I've heard it argued that the highest bidders will generally be the\n",
      "| vendors of the vulnerable software, but I don't think that's\n",
      "| plausible.  If someone can steal $20 000 because a software bug lets\n",
      "| them, the software vendor is never held liable; often, in fact, the\n",
      "| people who administer the software aren't liable, either --- when\n",
      "| credit card data are stolen from an e-commerce site, for example.\n",
      "| Knowing about a vulnerability before anyone else might save a web-site\n",
      "| administrator some time, and it might save the software vendor some\n",
      "| negative PR, but it can net the thief thousands of dollars.\n",
      "| \n",
      "| I think the highest bidders will be those for whom early vulnerability\n",
      "| information is most lucrative --- the thieves who can use it to\n",
      "| execute the largest heists without getting caught.  Inevitably, that\n",
      "| means organized crime syndicates, although the particular gangs who\n",
      "| are good at networked theft may not yet exist.\n",
      "| \n",
      "| There might be the occasional case where a market leader, such as\n",
      "| Microsoft, could make more money by giving their competitors bad PR\n",
      "| than a gang could make by theft.  Think of a remote-root hole in\n",
      "| Samba, for example.\n",
      "| \n",
      "| Right now, people who know how to find security exploits are either\n",
      "| motivated by personal interest in the subject, motivated by the public\n",
      "| interest, motivated by a desire for individual recognition, or\n",
      "| personally know criminals that benefit from their exploits.  Creating\n",
      "| a marketplace in secret vulnerability information would vastly\n",
      "| increase the availability of that information to the people who can\n",
      "| afford to pay the most for it: spies, terrorists, and organized crime.\n",
      "| \n",
      "| Let's not let that happen.\n",
      "| \n",
      "| \n",
      "| \n",
      "| \n",
      "| This is the original iDEFENSE announcement:\n",
      "| \n",
      "| From: Sunil James [mailto:SJames@iDefense.com]\n",
      "| Sent: Wednesday, August 07, 2002 12:32 PM\n",
      "| Subject: Introducing iDEFENSE's Vulnerability Contributor Program\n",
      "| \n",
      "| \n",
      "| Greetings,\n",
      "| \n",
      "| iDEFENSE is pleased to announce the official launch of its Vulnerability\n",
      "| Contributor Program (VCP). The VCP pays contributors for the advance\n",
      "| notification of vulnerabilities, exploit code and malicious code.\n",
      "| \n",
      "| iDEFENSE hopes you might consider contributing to the VCP. The following\n",
      "| provides answers to some basic questions about the program:\n",
      "| \n",
      "| Q. How will it work?\n",
      "| A. iDEFENSE understands the majority of security researchers do not publish\n",
      "| security research for compensation; rather, it could be for any of a number\n",
      "| of motivations, including the following:\n",
      "| \n",
      "|          * Pure love of security research\n",
      "|          * The desire to protect against harm to targeted networks\n",
      "|          * The desire to urge vendors to fix their products\n",
      "|          * The publicity that often accompanies disclosure\n",
      "| \n",
      "| The VCP is for those who want to have their research made public to the\n",
      "| Internet community, but who would also like to be paid for doing the\n",
      "| work.The compensation will depend, among other things, on the following\n",
      "| items:\n",
      "| \n",
      "|          * The kind of information being shared (i.e. vulnerability or exploit)\n",
      "|          * The amount of detail and analysis provided\n",
      "|          * The potential severity level for the information shared\n",
      "|          * The types of applications, operating systems, and other\n",
      "|            software and hardware potentially affected\n",
      "|          * Verification by iDEFENSE Labs\n",
      "|          * The level of exclusivity, if any, for data granted to iDEFENSE\n",
      "| \n",
      "| Q. Who should contribute to the VCP?\n",
      "| A. The VCP is open to any individual, security research group or other\n",
      "| entity.\n",
      "| \n",
      "| Q. Why are you launching this program?\n",
      "| A. Timeliness remains a key aspect in security intelligence. Contributions\n",
      "| to some lists take time before publication to the public at large. More\n",
      "| often, many of these services charge clients for access without paying the\n",
      "| original contributor. Under the iDEFENSE program, the contributor is\n",
      "| compensated, iDEFENSE Labs verifies the issue, and iDEFENSE clients and the\n",
      "| public at large are warned in a timely manner.\n",
      "| \n",
      "| Q. Who gets the credit?\n",
      "| A. The contributor is always credited for discovering the vulnerability or\n",
      "| exploit information.\n",
      "| \n",
      "| Q. When can I contribute?\n",
      "| The VCP is active. You are welcome to begin contributing today.\n",
      "| \n",
      "| To learn more, go to http://www.idefense.com/contributor.html. If you have\n",
      "| questions or would like to sign up as a contributor to the VCP, please\n",
      "| contact us at contributor@idefense.com.\n",
      "| \n",
      "| Regards,\n",
      "| \n",
      "| Sunil James\n",
      "| Technical Analyst\n",
      "| iDEFENSE\n",
      "| \n",
      "| \"iDEFENSE is a global security intelligence company that proactively\n",
      "| monitors sources throughout the world -- from technical vulnerabilities and\n",
      "| hacker profiling to the global spread of viruses and other malicious code.\n",
      "| The iALERT security intelligence service provides decision-makers, frontline\n",
      "| security professionals and network administrators with timely access to\n",
      "| actionable intelligence and decision support on cyber-related threats.\n",
      "| iDEFENSE Labs is the research wing that verifies vulnerabilities, examines\n",
      "| the behavior of exploits and other malicious code and discovers new\n",
      "| software/hardware weaknesses in a controlled lab environment.\"\n",
      "| \n",
      "| http://xent.com/mailman/listinfo/fork\n",
      "| \n",
      "\n",
      "\n"
     ]
    }
   ],
   "source": [
    "print all_messages[1]"
   ]
  },
  {
   "cell_type": "markdown",
   "metadata": {},
   "source": [
    "The importance of link depends upon where it is placed in text. That means, sequence of words before and after the link matters and they largely decide whether link is important. For example, \n",
    "1. Please see the below link \"http://www.google.com\"\n",
    "2. Regards, Chaitanya Bendre \"http://chaitanya.com\"\n",
    "\n",
    "In the above text, first link is important and second link not since it only describes personal link of the sender."
   ]
  },
  {
   "cell_type": "markdown",
   "metadata": {},
   "source": [
    "So, lets process each input message. We will do following things in sequence on this messages.\n",
    "1. Remove '3D' character and HTML tags\n",
    "2. Remove newline characters\n",
    "3. Replace Multiple underscores with a single one\n",
    "4. Remove '=\\n' symbols from text, since they sometimes appear to indicate line wrapping.\n",
    "5. Remove stopwords such as 'a','and','the'\n",
    "6. Remove puncuation tokens, numbers and single letters "
   ]
  },
  {
   "cell_type": "code",
   "execution_count": 9,
   "metadata": {
    "collapsed": false
   },
   "outputs": [],
   "source": [
    "def get_msg_words(message, strip_html = False):\n",
    "    #remove 3D character\n",
    "    message = re.sub('3D','', message)\n",
    "    \n",
    "    # Strip out html tags and attributes and html character codes,\n",
    "    # like &nbsp; and &lt;.\n",
    "    if strip_html:\n",
    "        message = re.sub('<(.|\\n)*?>', ' ', message)\n",
    "        message = re.sub('&\\w+;', ' ', message)\n",
    "    \n",
    "    #replace multiple underscores with single \n",
    "    message = re.sub('_+', '_', message)\n",
    "    \n",
    "    # remove '=' symbols before tokenizing, since these are\n",
    "    # sometimes occur within words to indicate, e.g., line-wrapping.\n",
    "    message = message.replace('=\\n', '')\n",
    "    \n",
    "    # Get rid of stopwords\n",
    "    #remove stopwords\n",
    "    stop_words = set(stopwords.words('english'))\n",
    "    msg_words = [word for word in message.lower().split() if word not in stop_words]\n",
    "    \n",
    "    #remove puncuation, numbers \n",
    "    msg_words = [w for w in msg_words if re.search('[a-zA-Z]', w) ]\n",
    "    \n",
    "    return msg_words"
   ]
  },
  {
   "cell_type": "code",
   "execution_count": 10,
   "metadata": {
    "collapsed": false
   },
   "outputs": [
    {
     "name": "stdout",
     "output_type": "stream",
     "text": [
      "['fri,', 'feb', '12:42:02pm', 'brian', 'french', 'wrote:', 'hey', 'problem:', 'rpms', 'installed', 'want', 'uninstall,', 'like', 'so:', 'rpm', '-e', '[rpm', 'package]', 'gives', 'error:', 'package', 'installed,', 'install', 'like', 'so:', 'little', 'confusing', 'install', 'rpms', 'like', 'rpm', '-ivh', 'packagename-0.1.1.rpm', 'uninstalls', 'must', 'done', 'without', 'version', 'info', 'like', 'rpm', '-e', 'packagename', 'ie:', 'rpm', '-e', 'sendmail', 'rpm', '-e', 'sendmail-devel.', 'give', 'go', 'work', 'np.', 'phil,', 'rpm', '-i', '[rpm', 'package]', 'gives', 'error:', 'package', 'already', 'installed,', 'force', 'install', 'like', 'so:', 'rpm', '-i', '--force', '[rpm', 'package]', 'installs', 'try', 'uninstall', 'still', 'gives', 'error:', 'package', 'installed.', 'get', 'recognize', 'package', 'indeed', 'installed', 'it,', 'and/or', 'get', 'unstall', 'it?', 'thanx', 'advance,', 'brian', 'french', '-french', 'rpm-list', 'mailing', 'list', 'http://lists.freshrpms.net/mailman/listinfo/rpm-list']\n"
     ]
    }
   ],
   "source": [
    "words = get_msg_words(all_messages[2], strip_html=True)\n",
    "print words"
   ]
  },
  {
   "cell_type": "markdown",
   "metadata": {},
   "source": [
    "Now that we have tested our function, next step is analysing this links to find important ones.\n",
    "Lets run one basic analysis, which is getting TF-IDF matrix of all words, and getting the words which starts with http://. We will sort them by tfidf score and print top ones. Of course, this approach regards all links in the email as same, wherever they are placed. "
   ]
  },
  {
   "cell_type": "code",
   "execution_count": 11,
   "metadata": {
    "collapsed": true
   },
   "outputs": [],
   "source": [
    "def getAllMessagesAfterCleaning(all_messages):\n",
    "    data = []\n",
    "    for msg in all_messages:\n",
    "        words = get_msg_words(msg, strip_html=True)\n",
    "        data.append(words)\n",
    "    return data"
   ]
  },
  {
   "cell_type": "code",
   "execution_count": 12,
   "metadata": {
    "collapsed": false
   },
   "outputs": [
    {
     "data": {
      "text/plain": [
       "['hi',\n",
       " 'all,',\n",
       " \"i'm\",\n",
       " 'trying',\n",
       " 'set',\n",
       " 'following:',\n",
       " 'linux',\n",
       " 'server',\n",
       " 'running',\n",
       " 'modem',\n",
       " 'internet',\n",
       " 'connectivity',\n",
       " 'ethernet',\n",
       " 'card',\n",
       " 'lan',\n",
       " 'connectivity',\n",
       " 'lan',\n",
       " 'pcs',\n",
       " 'ethernet',\n",
       " 'cards,',\n",
       " 'using',\n",
       " 'linux',\n",
       " 'server',\n",
       " 'dns/dhcp',\n",
       " 'etc.',\n",
       " 'basically,',\n",
       " 'want',\n",
       " 'route',\n",
       " 'non',\n",
       " 'lan',\n",
       " 'traffic',\n",
       " 'ppp0.',\n",
       " \"i've\",\n",
       " 'got',\n",
       " 'way,',\n",
       " 'like',\n",
       " 'similar',\n",
       " 'post',\n",
       " 'earlier',\n",
       " 'modem',\n",
       " 'problems,',\n",
       " 'connected',\n",
       " 'internet',\n",
       " 'eht0',\n",
       " 'up,',\n",
       " 'routing',\n",
       " 'incorrect',\n",
       " 'noting',\n",
       " 'goes',\n",
       " 'ppp0',\n",
       " '(eh0',\n",
       " 'must',\n",
       " 'default',\n",
       " 'route',\n",
       " 'something).',\n",
       " 'standard',\n",
       " '\"out',\n",
       " 'box\"',\n",
       " 'linux',\n",
       " 'tools',\n",
       " 'carry',\n",
       " 'portmapping',\n",
       " 'behalf',\n",
       " 'lan',\n",
       " 'pcs',\n",
       " \"(i'm\",\n",
       " 'planning',\n",
       " 'non',\n",
       " 'routable',\n",
       " 'addresses',\n",
       " '192.168.x.x',\n",
       " 'lan,',\n",
       " 'routed',\n",
       " 'outwards',\n",
       " 'via',\n",
       " 'ppp0',\n",
       " 'interface).',\n",
       " 'someone',\n",
       " 'point',\n",
       " 'right',\n",
       " 'howtos',\n",
       " 'routing',\n",
       " 'documentation',\n",
       " 'need',\n",
       " 'follow',\n",
       " 'thanks,',\n",
       " 'dermot.']"
      ]
     },
     "execution_count": 12,
     "metadata": {},
     "output_type": "execute_result"
    }
   ],
   "source": [
    "dataset = getAllMessagesAfterCleaning(all_messages)\n",
    "dataset[0]"
   ]
  },
  {
   "cell_type": "markdown",
   "metadata": {},
   "source": [
    "Not Lets extract links from each item in datasets making two lists. Data list will contain that preceed the link. And label list will have name of the link."
   ]
  },
  {
   "cell_type": "code",
   "execution_count": 13,
   "metadata": {
    "collapsed": false
   },
   "outputs": [],
   "source": [
    "def extractlinksfromdataset(dataset, numwords = 10):\n",
    "    newdataset = []\n",
    "    datalabels = []\n",
    "    for data in dataset:\n",
    "        starts = [n for n,l in enumerate(data) if l.startswith('http://')]\n",
    "        for index in starts:\n",
    "            newdataset.append(' '.join(data[(index-numwords):index] + data[(index+1):(index+numwords+1)]))\n",
    "            datalabels.append(data[index])\n",
    "    return newdataset, datalabels"
   ]
  },
  {
   "cell_type": "code",
   "execution_count": 14,
   "metadata": {
    "collapsed": true
   },
   "outputs": [],
   "source": [
    "newdataset, linklabels = extractlinksfromdataset(dataset)"
   ]
  },
  {
   "cell_type": "code",
   "execution_count": 15,
   "metadata": {
    "collapsed": false
   },
   "outputs": [
    {
     "data": {
      "text/plain": [
       "['08:42:12am eugen leitl wrote: eugen* leitl leitl icbmto: n48 e11 83e5ca02: ede4 a96b 07a7 1a88 aa58 0e89 83e5 ca02 forwarded',\n",
       " 'contribute? vcp active. welcome begin contributing today. learn more, go questions would like sign contributor vcp, please contact us contributor@idefense.com.',\n",
       " 'exploits malicious code discovers new software/hardware weaknesses controlled lab environment.\"']"
      ]
     },
     "execution_count": 15,
     "metadata": {},
     "output_type": "execute_result"
    }
   ],
   "source": [
    "newdataset[:3]"
   ]
  },
  {
   "cell_type": "code",
   "execution_count": 16,
   "metadata": {
    "collapsed": false
   },
   "outputs": [
    {
     "data": {
      "text/plain": [
       "['http://eugen.leitl.org',\n",
       " 'http://www.idefense.com/contributor.html.',\n",
       " 'http://xent.com/mailman/listinfo/fork']"
      ]
     },
     "execution_count": 16,
     "metadata": {},
     "output_type": "execute_result"
    }
   ],
   "source": [
    "linklabels[:3]"
   ]
  },
  {
   "cell_type": "markdown",
   "metadata": {},
   "source": [
    "Now we will make a Term Frequency corpus of these docs. Our intuition is that links which are not important will appear more than once in the same context. For example, whenever comment appears on facebook or google group. Or if the link is part of some standard promotional mails. Having similar words before and after link, these links will be similar and form cluster. Therefore, links which do not fall into any cluster are outliers. And we will treat them as important links.\n",
    "\n",
    "How do we detect outliers from clusters ? There are several approaches, but we will try two of them. \n",
    "1. Robust Estimator of co-variance\n",
    "2. One-class SVM.\n",
    "http://scikit-learn.org/stable/auto_examples/covariance/plot_outlier_detection.html"
   ]
  },
  {
   "cell_type": "code",
   "execution_count": 17,
   "metadata": {
    "collapsed": true
   },
   "outputs": [],
   "source": [
    "from sklearn.feature_extraction.text import CountVectorizer\n",
    "vectorizer = CountVectorizer(stop_words='english', decode_error='ignore')"
   ]
  },
  {
   "cell_type": "code",
   "execution_count": 18,
   "metadata": {
    "collapsed": false
   },
   "outputs": [
    {
     "name": "stderr",
     "output_type": "stream",
     "text": [
      "/usr/local/lib/python2.7/dist-packages/numpy/core/fromnumeric.py:2507: VisibleDeprecationWarning: `rank` is deprecated; use the `ndim` attribute or function instead. To find the rank of a matrix see `numpy.linalg.matrix_rank`.\n",
      "  VisibleDeprecationWarning)\n"
     ]
    }
   ],
   "source": [
    "vectordata = vectorizer.fit_transform(newdataset)"
   ]
  },
  {
   "cell_type": "code",
   "execution_count": 19,
   "metadata": {
    "collapsed": false
   },
   "outputs": [
    {
     "data": {
      "text/plain": [
       "2968"
      ]
     },
     "execution_count": 19,
     "metadata": {},
     "output_type": "execute_result"
    }
   ],
   "source": [
    "len(linklabels)"
   ]
  },
  {
   "cell_type": "code",
   "execution_count": 20,
   "metadata": {
    "collapsed": false
   },
   "outputs": [
    {
     "data": {
      "text/plain": [
       "(2968, 8001)"
      ]
     },
     "execution_count": 20,
     "metadata": {},
     "output_type": "execute_result"
    }
   ],
   "source": [
    "vectordata.shape"
   ]
  },
  {
   "cell_type": "code",
   "execution_count": 28,
   "metadata": {
    "collapsed": false
   },
   "outputs": [],
   "source": [
    "from sklearn import svm\n",
    "outliers_fraction = 0.90\n",
    "clf = svm.OneClassSVM(nu = 0.95 * outliers_fraction + 0.05, kernel='rbf', gamma=0.1)\n",
    "clf.fit(vectordata)\n",
    "y_pred = clf.decision_function(vectordata).ravel()"
   ]
  },
  {
   "cell_type": "code",
   "execution_count": 29,
   "metadata": {
    "collapsed": false
   },
   "outputs": [
    {
     "data": {
      "text/plain": [
       "array([ -5.89998518e+265,  -5.89645524e+265,  -5.88623429e+265, ...,\n",
       "        -5.89259642e+265,  -5.88916529e+265,  -5.89879574e+265])"
      ]
     },
     "execution_count": 29,
     "metadata": {},
     "output_type": "execute_result"
    }
   ],
   "source": [
    "y_pred"
   ]
  },
  {
   "cell_type": "code",
   "execution_count": 30,
   "metadata": {
    "collapsed": false
   },
   "outputs": [],
   "source": [
    "from scipy import stats\n",
    "threshold = stats.scoreatpercentile(y_pred, 100 * outliers_fraction)"
   ]
  },
  {
   "cell_type": "code",
   "execution_count": 31,
   "metadata": {
    "collapsed": true
   },
   "outputs": [],
   "source": [
    "y_pred = y_pred > threshold"
   ]
  },
  {
   "cell_type": "code",
   "execution_count": 32,
   "metadata": {
    "collapsed": true
   },
   "outputs": [],
   "source": [
    "from itertools import compress\n",
    "imp_links = list(compress(linklabels, y_pred))"
   ]
  },
  {
   "cell_type": "code",
   "execution_count": 33,
   "metadata": {
    "collapsed": false
   },
   "outputs": [
    {
     "data": {
      "text/plain": [
       "291"
      ]
     },
     "execution_count": 33,
     "metadata": {},
     "output_type": "execute_result"
    }
   ],
   "source": [
    "len(imp_links)"
   ]
  },
  {
   "cell_type": "code",
   "execution_count": 34,
   "metadata": {
    "collapsed": false
   },
   "outputs": [
    {
     "data": {
      "text/plain": [
       "['http://lists.freshrpms.net/mailman/listinfo/rpm-list',\n",
       " 'http://boingboing.net/#85534676',\n",
       " 'http://www.newsisfree.com/click/-1,8640496,1440/',\n",
       " 'http://www.hughes-family.org/bugzilla/show_bug.cgi?id=805',\n",
       " 'http://www.python.org/~guido/)',\n",
       " 'http://boingboing.net/#85515860',\n",
       " 'http://lists.freshrpms.net/mailman/listinfo/rpm-list',\n",
       " 'http://lists.freshrpms.net/mailman/listinfo/rpm-list',\n",
       " 'http://xent.com/mailman/listinfo/fork',\n",
       " 'http://lists.freshrpms.net/mailman/listinfo/rpm-list',\n",
       " 'http://www.newsisfree.com/click/-5,8553541,1440/',\n",
       " 'http://ocw.mit.edu/global/all-courses.html',\n",
       " 'http://lists.freshrpms.net/mailman/listinfo/rpm-list',\n",
       " 'http://koti.welho.com/pmatilai/',\n",
       " 'http://rss.com.com/2100-1017-959046.html?type=pt&part=rss&tag=feed&subj=news',\n",
       " 'http://lists.freshrpms.net/mailman/listinfo/rpm-list',\n",
       " 'http://www.guardian.co.uk/print/0%2c3858%2c4489999%2c00.html',\n",
       " 'http://lists.freshrpms.net/mailman/listinfo/rpm-list',\n",
       " 'http://www.post-gazette.com/columnists/20020905brian5.asp',\n",
       " 'http://xent.com/mailman/listinfo/fork',\n",
       " 'http://lists.freshrpms.net/mailman/listinfo/rpm-list',\n",
       " 'http://lists.freshrpms.net/mailman/listinfo/rpm-list',\n",
       " 'http://weblog.burningbird.net/archives/000541.php',\n",
       " 'http://lists.freshrpms.net/mailman/listinfo/rpm-list',\n",
       " 'http://urgent.rug.ac.be/',\n",
       " 'http://lists.freshrpms.net/mailman/listinfo/rpm-list',\n",
       " 'http://xent.com/mailman/listinfo/fork',\n",
       " 'http://www.nytimes.com/2002/10/09/technology/09kore.html',\n",
       " 'http://xent.com/mailman/listinfo/fork',\n",
       " 'http://lists.freshrpms.net/mailman/listinfo/rpm-list',\n",
       " 'http://lists.freshrpms.net/mailman/listinfo/rpm-list',\n",
       " 'http://boingboing.net/#85534710',\n",
       " 'http://finance.yahoo.com',\n",
       " 'http://lists.freshrpms.net/mailman/listinfo/rpm-list',\n",
       " 'http://xent.com/mailman/listinfo/fork',\n",
       " 'http://lists.freshrpms.net/mailman/listinfo/rpm-list',\n",
       " 'http://www.newsisfree.com/click/-2,8653742,1440/',\n",
       " 'http://www.theregister.co.uk/content/54/27489.html',\n",
       " 'http://www.joelonsoftware.com/news/20021008.html',\n",
       " 'http://lists.freshrpms.net/mailman/listinfo/rpm-list',\n",
       " 'http://lists.freshrpms.net/mailman/listinfo/rpm-list',\n",
       " 'http://lists.freshrpms.net/mailman/listinfo/rpm-list',\n",
       " 'http://spineless.org/~mod/pix/octobermoon.jpg',\n",
       " 'http://www.timesonline.co.uk/printfriendly/0,,1-43-351083,00.html',\n",
       " 'http://xent.com/mailman/listinfo/fork',\n",
       " 'http://lists.freshrpms.net/mailman/listinfo/rpm-list',\n",
       " 'http://www.intertwingly.net/blog/844.html',\n",
       " 'http://lists.freshrpms.net/mailman/listinfo/rpm-list',\n",
       " 'http://lists.freshrpms.net/mailman/listinfo/rpm-list',\n",
       " 'http://www.python.org/~guido/)',\n",
       " 'http://www.paulgraham.com/spam.html',\n",
       " 'http://fluxbox.sf.net',\n",
       " 'http://finance.yahoo.com',\n",
       " 'http://lists.freshrpms.net/mailman/listinfo/rpm-list',\n",
       " 'http://www.arstechnica.com/',\n",
       " 'http://lists.freshrpms.net/mailman/listinfo/rpm-list',\n",
       " 'http://scriptingnews.userland.com/backissues/2002/09/25#when:3:23:55pm',\n",
       " 'http://www.inspirationpeak.com/archives/2001/012301.html',\n",
       " 'http://xent.com/mailman/listinfo/fork',\n",
       " 'http://lists.freshrpms.net/mailman/listinfo/rpm-list',\n",
       " 'http://scriptingnews.userland.com/backissues/2002/09/23#when:6:16:41pm',\n",
       " 'http://halleyscomment.blogspot.com/2002_09_22_halleyscomment_archive.html#85483723',\n",
       " 'http://www.whump.com/morelikethis/',\n",
       " 'http://lists.freshrpms.net/mailman/listinfo/rpm-list',\n",
       " 'http://www.pimprig.com/sections.php?op=viewarticle&artid=72&page=2',\n",
       " 'http://www.newsisfree.com/click/-1,8412855,1440/',\n",
       " 'http://xent.com/mailman/listinfo/fork',\n",
       " 'http://freshrpms.net/mirrors/psyche.html',\n",
       " 'http://english.pravda.ru/main/2002/10/05/37771.html',\n",
       " 'http://lists.freshrpms.net/mailman/listinfo/rpm-list',\n",
       " 'http://lists.freshrpms.net/mailman/listinfo/rpm-list',\n",
       " 'http://www.newsisfree.com/click/-3,8714366,1440/',\n",
       " 'http://www.newsisfree.com/click/-3,8015195,1440/',\n",
       " 'http://www.constitutioncenter.org/sections/news/8b4.asp',\n",
       " 'http://xent.com/mailman/listinfo/fork',\n",
       " 'http://lists.freshrpms.net/mailman/listinfo/rpm-list',\n",
       " 'http://dandanielle.home.mindspring.com',\n",
       " 'http://lists.freshrpms.net/mailman/listinfo/rpm-list',\n",
       " 'http://lists.freshrpms.net/mailman/listinfo/rpm-list',\n",
       " 'http://groups.yahoo.com/group/rss2-support/message/110',\n",
       " 'http://lists.freshrpms.net/mailman/listinfo/rpm-list',\n",
       " 'http://lists.freshrpms.net/mailman/listinfo/rpm-list',\n",
       " 'http://lists.freshrpms.net/mailman/listinfo/rpm-list',\n",
       " 'http://lists.freshrpms.net/mailman/listinfo/rpm-list',\n",
       " 'http://xent.com/mailman/listinfo/fork',\n",
       " 'http://beast.gtk.org',\n",
       " 'http://www.salon.com/mwt/feature/2002/09/11/forbidden_letters/index.html',\n",
       " 'http://lists.freshrpms.net/mailman/listinfo/rpm-list',\n",
       " 'http://scriptingnews.userland.com/backissues/2002/09/24#when:11:46:59am',\n",
       " 'http://radio.weblogs.com/0001011/2002/09/24.html',\n",
       " 'http://www.guardian.co.uk/archive/article/0,4273,4477138,00.html',\n",
       " 'http://lists.freshrpms.net/mailman/listinfo/rpm-list',\n",
       " 'http://xent.com/mailman/listinfo/fork',\n",
       " 'http://www.disobey.com/amphetadesk/finding_more.html',\n",
       " 'http://lists.freshrpms.net/mailman/listinfo/rpm-list',\n",
       " 'http://lists.freshrpms.net/mailman/listinfo/rpm-list',\n",
       " 'http://lists.freshrpms.net/mailman/listinfo/rpm-list',\n",
       " 'http://xent.com/mailman/listinfo/fork',\n",
       " 'http://www.ozyandmillie.org/comics/om20020924.gif',\n",
       " 'http://www.hughes-family.org/bugzilla/show_bug.cgi?id=886',\n",
       " 'http://hrw.org/press/2002/08/yahoo080902.htm',\n",
       " 'http://lists.freshrpms.net/mailman/listinfo/rpm-list',\n",
       " 'http://lists.freshrpms.net/mailman/listinfo/rpm-list',\n",
       " 'http://lists.freshrpms.net/mailman/listinfo/rpm-list',\n",
       " 'http://lists.freshrpms.net/mailman/listinfo/rpm-list',\n",
       " 'http://jeremy.zawodny.com/blog/archives/000188.html#000188',\n",
       " 'http://www.dudex.net/rpms/',\n",
       " 'http://xent.com/mailman/listinfo/fork',\n",
       " 'http://xent.com/mailman/listinfo/fork',\n",
       " 'http://xent.com/mailman/listinfo/fork',\n",
       " 'http://lists.freshrpms.net/mailman/listinfo/rpm-list',\n",
       " 'http://www.newsisfree.com/click/-5,8062538,1440/',\n",
       " 'http://boingboing.net/#85512062',\n",
       " 'http://lists.freshrpms.net/mailman/listinfo/rpm-list',\n",
       " 'http://lists.freshrpms.net/mailman/listinfo/rpm-list',\n",
       " 'http://lists.freshrpms.net/mailman/listinfo/rpm-list',\n",
       " 'http://freshrpms.net/builds/',\n",
       " 'http://www.frogstone.net/cafe/cafeforteana.html',\n",
       " 'http://www.comicbookgalaxy.com/pipeline0.html',\n",
       " 'http://ftp.freshrpms.net/pub/freshrpms/testing/nessus/',\n",
       " 'http://www.python.org/~guido/)',\n",
       " 'http://www.newsisfree.com/click/-1,8171676,1440/',\n",
       " 'http://www.newsisfree.com/images/fark/sun.gif',\n",
       " 'http://lists.freshrpms.net/mailman/listinfo/rpm-list',\n",
       " 'http://www.whump.com/morelikethis/',\n",
       " 'http://www.ling.helsinki.fi/users/reriksso/mail/autoresponder-faq.html',\n",
       " 'http://www.gnupg.org',\n",
       " 'http://lists.freshrpms.net/mailman/listinfo/rpm-list',\n",
       " 'http://www.vmware.com/support/reference/common/disk_sharing.html',\n",
       " 'http://lists.freshrpms.net/mailman/listinfo/rpm-list',\n",
       " 'http://www.whygodwhy.com/archive/000071.html',\n",
       " 'http://lists.freshrpms.net/mailman/listinfo/rpm-list',\n",
       " 'http://xent.com/mailman/listinfo/fork',\n",
       " 'http://theregister.co.uk/content/6/26983.html,',\n",
       " 'http://news.bbc.co.uk/1/hi/technology/2219079.stm',\n",
       " 'http://lists.freshrpms.net/mailman/listinfo/rpm-list',\n",
       " 'http://uk.my.yahoo.com',\n",
       " 'http://lists.freshrpms.net/mailman/listinfo/rpm-list',\n",
       " 'http://freshrpms.net/builds/',\n",
       " 'http://xent.com/mailman/listinfo/fork',\n",
       " 'http://lists.freshrpms.net/',\n",
       " 'http://lists.freshrpms.net/mailman/listinfo/rpm-list',\n",
       " 'http://www.newsisfree.com/images/fark/scotsman.gif',\n",
       " 'http://xent.com/mailman/listinfo/fork',\n",
       " 'http://www.newsisfree.com/click/-1,8404725,1717/',\n",
       " 'http://urgent.rug.ac.be/',\n",
       " 'http://lists.freshrpms.net/mailman/listinfo/rpm-list',\n",
       " 'http://lists.freshrpms.net/mailman/listinfo/rpm-list',\n",
       " 'http://lists.freshrpms.net/mailman/listinfo/rpm-list',\n",
       " 'http://lists.freshrpms.net/mailman/listinfo/rpm-list',\n",
       " 'http://lists.freshrpms.net/mailman/listinfo/rpm-list',\n",
       " 'http://www.earthviewer.com/',\n",
       " 'http://boingboing.net/#85515860',\n",
       " 'http://lists.freshrpms.net/mailman/listinfo/rpm-list',\n",
       " 'http://lists.freshrpms.net/mailman/listinfo/rpm-list',\n",
       " 'http://lists.freshrpms.net/mailman/listinfo/rpm-list',\n",
       " 'http://distro.conectiva.com.br/pipermail/apt-rpm/2002-august/000653.html',\n",
       " 'http://scriptingnews.userland.com/backissues/2002/09/25#when:5:49:00am',\n",
       " 'http://www.ozzie.net/blog/2002/09/25.html#a65',\n",
       " 'http://lists.freshrpms.net/mailman/listinfo/rpm-list',\n",
       " 'http://scriptingnews.userland.com/backissues/2002/09/24#when:8:35:25am',\n",
       " 'http://www.newsisfree.com/click/-1,8640496,1440/',\n",
       " 'http://xent.com/mailman/listinfo/fork',\n",
       " 'http://www.gnupg.org',\n",
       " 'http://lists.freshrpms.net/mailman/listinfo/rpm-list',\n",
       " 'http://www.michaelmoore.com/mailing/unsubscribe.php',\n",
       " 'http://boingboing.net/#85534142',\n",
       " 'http://www.postfun.com/pfp/worbois.html',\n",
       " 'http://www.phc.mpr.org/posthost/index.shtml',\n",
       " 'http://lists.freshrpms.net/mailman/listinfo/rpm-list',\n",
       " 'http://www.timesonline.co.uk/printfriendly/0,,1-43-351083,00.html',\n",
       " 'http://xent.com/mailman/listinfo/fork',\n",
       " 'http://lists.freshrpms.net/mailman/listinfo/rpm-list',\n",
       " 'http://lists.freshrpms.net/mailman/listinfo/rpm-list',\n",
       " 'http://www.dudex.net/rpms/',\n",
       " 'http://www.dooce.com/about.html',\n",
       " 'http://www.disobey.com/amphetadesk/finding_more.html',\n",
       " 'http://www.joelonsoftware.com/news/20021002.html',\n",
       " 'http://news.google.com/',\n",
       " 'http://radio.userland.com/newsaggregator',\n",
       " 'http://lists.freshrpms.net/mailman/listinfo/rpm-list',\n",
       " 'http://xent.com/mailman/listinfo/fork',\n",
       " 'http://xent.com/mailman/listinfo/fork',\n",
       " 'http://xent.com/mailman/listinfo/fork',\n",
       " 'http://www.cliktrik.com/people/family/me/0419.jpg',\n",
       " 'http://www.linux.ie/mailman/listinfo/webdev',\n",
       " 'http://www.newsisfree.com/click/-1,8404724,1717/',\n",
       " 'http://tb.tf/mailman/listinfo/irregulars',\n",
       " 'http://xent.com/mailman/listinfo/fork',\n",
       " 'http://www.gnupg.org',\n",
       " 'http://lists.freshrpms.net/mailman/listinfo/rpm-list',\n",
       " 'http://diveintomark.org/archives/2002/09/23.html#now_heavily_medicated',\n",
       " 'http://xent.com/mailman/listinfo/fork',\n",
       " 'http://xent.com/mailman/listinfo/fork',\n",
       " 'http://www.decafbad.com/news_archives/000228.phtml',\n",
       " 'http://www.nessus.org/posix.html',\n",
       " 'http://mobile.msn.com',\n",
       " 'http://www.gnupg.org',\n",
       " 'http://lists.freshrpms.net/mailman/listinfo/rpm-list',\n",
       " 'http://www.newsisfree.com/click/-4,8289788,1440/',\n",
       " 'http://philringnalda.com/archives/002330.php',\n",
       " 'http://lists.freshrpms.net/mailman/listinfo/rpm-list',\n",
       " 'http://lists.freshrpms.net/mailman/listinfo/rpm-list',\n",
       " 'http://www.mozillazine.org/weblogs/hyatt/#85378428',\n",
       " 'http://lists.freshrpms.net/mailman/listinfo/rpm-list',\n",
       " 'http://lists.ximian.com/mailman/listinfo/updates',\n",
       " 'http://scriptingnews.userland.com/backissues/2002/09/24#when:4:10:18am',\n",
       " 'http://www.digichapman.com/index.php?permalink=67',\n",
       " 'http://mail.python.org/mailman-21/listinfo/spambayes',\n",
       " 'http://lists.freshrpms.net/mailman/listinfo/rpm-list',\n",
       " 'http://xent.com/mailman/listinfo/fork',\n",
       " 'http://boingboing.net/#85517490',\n",
       " 'http://lists.freshrpms.net/mailman/listinfo/rpm-list',\n",
       " 'http://www.gnupg.org',\n",
       " 'http://lists.freshrpms.net/mailman/listinfo/rpm-list',\n",
       " 'http://www.thecliffguy.com/cliffs.htm',\n",
       " 'http://newyorker.com/fact/content/?020401fa_fact1',\n",
       " 'http://apt.nixia.no/apt/files/',\n",
       " 'http://freshrpms.net/apt/',\n",
       " 'http://urgent.rug.ac.be/',\n",
       " 'http://lists.freshrpms.net/mailman/listinfo/rpm-list',\n",
       " 'http://www.paulgraham.com/spam.html',\n",
       " 'http://crackmice.com/mailman/listinfo/crackmice',\n",
       " 'http://boingboing.net/#85513638',\n",
       " 'http://sourceforge.net/docman/display_doc.php?docid=9026&group_id=13487',\n",
       " 'http://cgi.ebay.com/aw-cgi/ebayisapi.dll?mfcisapicommand=viewitem&item=1764085998',\n",
       " 'http://boingboing.net/#85534853',\n",
       " 'http://www.quicktopic.com/boing/h/nytiy2fgte3ie',\n",
       " 'http://lists.freshrpms.net/mailman/listinfo/rpm-list',\n",
       " 'http://xent.com/mailman/listinfo/fork',\n",
       " 'http://boingboing.net/#85534626',\n",
       " 'http://www.dubyaspeak.com',\n",
       " 'http://www.newsisfree.com/click/-6,8341698,1440/',\n",
       " 'http://lists.freshrpms.net/mailman/listinfo/rpm-list',\n",
       " 'http://boingboing.net/#85534626',\n",
       " 'http://lists.freshrpms.net/mailman/listinfo/rpm-list',\n",
       " 'http://www.newsisfree.com/click/-3,8477945,1440/',\n",
       " 'http://lists.freshrpms.net/mailman/listinfo/rpm-list',\n",
       " 'http://jrobb.userland.com/2002/09/25.html#a2595',\n",
       " 'http://freshrpms.net/mirrors/psyche.html',\n",
       " 'http://psyche.freshrpms.net/',\n",
       " 'http://lists.freshrpms.net/mailman/listinfo/rpm-list',\n",
       " 'http://lists.freshrpms.net/mailman/listinfo/rpm-list',\n",
       " 'http://use.perl.org/article.pl?sid=02/10/02/1647249',\n",
       " 'http://www.cb-2000.com/',\n",
       " 'http://lists.freshrpms.net/mailman/listinfo/rpm-list',\n",
       " 'http://lists.freshrpms.net/mailman/listinfo/rpm-list',\n",
       " 'http://www.newsisfree.com/click/-5,8078047,1440/',\n",
       " 'http://lists.freshrpms.net/mailman/listinfo/rpm-list',\n",
       " 'http://lists.freshrpms.net/mailman/listinfo/rpm-list',\n",
       " 'http://www.cs.huji.ac.il/~springer/',\n",
       " 'http://scriptingnews.userland.com/backissues/2002/09/24#when:7:38:08am',\n",
       " 'http://spamassassin.org/tests/whitelists.html',\n",
       " 'http://www.peerfear.org/',\n",
       " 'http://lists.freshrpms.net/mailman/listinfo/rpm-list',\n",
       " 'http://lists.freshrpms.net/mailman/listinfo/rpm-list',\n",
       " 'http://www.daypop.com/top/',\n",
       " 'http://www.pinkpaperclips.net/subs/quiz2.html',\n",
       " 'http://uk.my.yahoo.com',\n",
       " 'http://www.gnupg.org',\n",
       " 'http://lists.freshrpms.net/mailman/listinfo/rpm-list',\n",
       " 'http://www.mozillazine.org/weblogs/hyatt/#85471617',\n",
       " 'http://www.arstechnica.com/',\n",
       " 'http://xent.com/mailman/listinfo/fork',\n",
       " 'http://www.newsisfree.com/click/-4,8259314,1717/',\n",
       " 'http://boingboing.net/#85537486',\n",
       " 'http://lists.freshrpms.net/mailman/listinfo/rpm-list',\n",
       " 'http://lists.freshrpms.net/mailman/listinfo/rpm-list',\n",
       " 'http://lists.freshrpms.net/mailman/listinfo/rpm-list',\n",
       " 'http://lists.freshrpms.net/mailman/listinfo/rpm-list',\n",
       " 'http://lists.freshrpms.net/mailman/listinfo/rpm-list',\n",
       " 'http://www.boquist.net/stort-sup-brev',\n",
       " 'http://boingboing.net/#85485619',\n",
       " 'http://radio.weblogs.com/0104308/2002/09/24.html',\n",
       " 'http://scriptingnews.userland.com/backissues/2002/09/25#when:6:25:23am',\n",
       " 'http://lists.freshrpms.net/mailman/listinfo/rpm-list',\n",
       " 'http://xent.com/mailman/listinfo/fork',\n",
       " 'http://boingboing.net/#85537486',\n",
       " 'http://dave.cridland.net/,',\n",
       " 'http://lists.freshrpms.net/mailman/listinfo/rpm-list',\n",
       " 'http://sf.net/tracker/index.php?func=detail&aid=600311&group_id=3978&atid=10',\n",
       " 'http://xent.com/mailman/listinfo/fork',\n",
       " 'http://lists.freshrpms.net/mailman/listinfo/rpm-list',\n",
       " 'http://boingboing.net/#85497407',\n",
       " 'http://abcnews.go.com/wire/living/reuters20020924_315.html',\n",
       " 'http://lists.freshrpms.net/mailman/listinfo/rpm-list',\n",
       " 'http://www.consult.hyperion.co.uk/digid3.html',\n",
       " 'http://tb.tf/mailman/listinfo/irregulars',\n",
       " 'http://lists.freshrpms.net/mailman/listinfo/rpm-list',\n",
       " 'http://lists.freshrpms.net/mailman/listinfo/rpm-list',\n",
       " 'http://xent.com/mailman/listinfo/fork']"
      ]
     },
     "execution_count": 34,
     "metadata": {},
     "output_type": "execute_result"
    }
   ],
   "source": [
    "imp_links[:]"
   ]
  },
  {
   "cell_type": "markdown",
   "metadata": {
    "collapsed": true
   },
   "source": [
    "Ok, we got some results. The model has captured some important links as checked manually. But it also seems like it has captured some spam links, irrelavant links as well. There can be number of explanations for this, \n",
    "1. We have not tuned parameters of OneSVM properly. We can optimize them.\n",
    "2. We havent cleaned our data properly. Some signatures are still present. And quoted text is present too.\n",
    "3. We are just considering term frequencies as a measure for calculating distances between two samples. May we can normalize them before running algorithm\n",
    "4. We can use some other Vectorizer such TF-IDF vectorizer to calculate similarity.\n",
    "5. Or Maybe, our assumption that two links are similar if the count of words just before and after the link is same, is wrong. \n",
    "6. We can also use some features other than just word tokens."
   ]
  },
  {
   "cell_type": "code",
   "execution_count": 35,
   "metadata": {
    "collapsed": true
   },
   "outputs": [],
   "source": [
    "#Lets try with TF-IDF vectorizer\n",
    "from sklearn.feature_extraction.text import TfidfVectorizer\n",
    "vectorizer = TfidfVectorizer(stop_words='english', decode_error='ignore')\n",
    "vectordata = vectorizer.fit_transform(newdataset)"
   ]
  },
  {
   "cell_type": "code",
   "execution_count": 38,
   "metadata": {
    "collapsed": false
   },
   "outputs": [
    {
     "data": {
      "text/plain": [
       "(2968, 8001)"
      ]
     },
     "execution_count": 38,
     "metadata": {},
     "output_type": "execute_result"
    }
   ],
   "source": [
    "vectordata.shape"
   ]
  },
  {
   "cell_type": "code",
   "execution_count": 41,
   "metadata": {
    "collapsed": false
   },
   "outputs": [
    {
     "data": {
      "text/plain": [
       "numpy.matrixlib.defmatrix.matrix"
      ]
     },
     "execution_count": 41,
     "metadata": {},
     "output_type": "execute_result"
    }
   ],
   "source": [
    "vectormatrix = vectordata.sum(axis=1)\n",
    "type(vectormatrix)"
   ]
  },
  {
   "cell_type": "code",
   "execution_count": 42,
   "metadata": {
    "collapsed": false
   },
   "outputs": [
    {
     "data": {
      "text/plain": [
       "(2968, 1)"
      ]
     },
     "execution_count": 42,
     "metadata": {},
     "output_type": "execute_result"
    }
   ],
   "source": [
    "vectormatrix.shape"
   ]
  },
  {
   "cell_type": "code",
   "execution_count": 47,
   "metadata": {
    "collapsed": false
   },
   "outputs": [
    {
     "data": {
      "text/plain": [
       "matrix([[2575],\n",
       "        [2248],\n",
       "        [ 428],\n",
       "        ..., \n",
       "        [1750],\n",
       "        [1782],\n",
       "        [1783]])"
      ]
     },
     "execution_count": 47,
     "metadata": {},
     "output_type": "execute_result"
    }
   ],
   "source": [
    "sortedmatrix = np.argsort(vectormatrix, axis=0)\n",
    "sortedmatrix"
   ]
  },
  {
   "cell_type": "code",
   "execution_count": 50,
   "metadata": {
    "collapsed": false
   },
   "outputs": [
    {
     "data": {
      "text/plain": [
       "matrix([[ 7.89960048]])"
      ]
     },
     "execution_count": 50,
     "metadata": {},
     "output_type": "execute_result"
    }
   ],
   "source": [
    "vectormatrix[1782]"
   ]
  },
  {
   "cell_type": "code",
   "execution_count": 62,
   "metadata": {
    "collapsed": false
   },
   "outputs": [
    {
     "name": "stdout",
     "output_type": "stream",
     "text": [
      "http://www.lavasoftusa.com/\n",
      "http://q.queso.com/index.php?archives/001000.php\n",
      "http://www.dashes.com/anil/index.php?archives/003183.php\n",
      "http://weblog.burningbird.net/archives/000581.php\n",
      "http://www.cs.tut.fi/~jkorpela/tilde.html\n",
      "http://ftrain.com/second_toothpaste.html\n",
      "http://news.bbc.co.uk/1/hi/technology/2233229.stm\n",
      "http://news.bbc.co.uk/1/hi/technology/2238236.stm\n",
      "http://infomesh.net/2002/swhaiku/\n",
      "http://osdir.com/modules.php?op=modload&name=downloads&file=index&req=viewdownloaddetails&lid=28&ttitle=amphetadesk\n",
      "http://www.openoffice.org/\n",
      "http://www.cygwin.com/\n",
      "http://www.osnews.com/story.php?news_id=1890\n",
      "http://www.cs.uni.edu/~wallingf/personal/bokonon.html#words\n",
      "http://osdir.com/modules.php?op=modload&name=downloads&file=index&req=ratedownload&lid=28&ttitle=%3ch3%3eshow%20your%20support%20for%20amphetadesk%3c/h3%3e\n",
      "http://www.archive.org/images/p1010028-m.jpg\n",
      "http://www.aaronsw.com/weblog/000647\n",
      "http://weblog.burningbird.net/class_rdql/query.htm\n",
      "http://sillydog.org/narchive/\n",
      "http://www.elegantwomen.net/mirasorvino/009.html\n",
      "http://www.osdir.com/\n",
      "http://www.kahle.org/brewster/\n",
      "http://www.perl.org/tpc/1998/\n",
      "http://www.openoffice.org/\n",
      "http://www.macosxhints.com/article.php?story=2002100306134721\n",
      "http://john.beimler.org/archives/000058.html\n",
      "http://weblog.burningbird.net/archives/000568.php\n",
      "http://www.agiledata.org/essays/databaserefactoring.html\n",
      "http://www.cs.tut.fi/~jkorpela/\n",
      "http://www.bradchoate.com/past/mtsanitize.php\n",
      "http://www.globeandmail.com/servlet/articlenews/pestory/tgam/20020923/ufattn/headlines/headdex/headdexinternational_temp/13/13/22/\n",
      "http://philringnalda.com/archives/002324.php\n",
      "http://philringnalda.com/archives/002337.php\n",
      "http://philringnalda.com/archives/002329.php\n",
      "http://www.decafbad.com/news_archives/000290.phtml\n",
      "http://use.perl.org/comments.pl?sid=02/10/01/1450259\n",
      "http://maccentral.macworld.com/news/0209/23.usable.php\n",
      "http://howto.looselycoupled.com/blog/2002_09_22_dy.htm#85480973\n",
      "http://burningbird.net/cgi-bin/mt-comments.cgi?entry_id=541\n",
      "http://ln.hixie.ch/?start=1032794857&count=1\n",
      "http://howto.looselycoupled.com/blog/2002_09_15_dy.htm\n",
      "http://www-106.ibm.com/developerworks/library/wa-xhtml/?n-wa-9192\n",
      "http://groups.yahoo.com/group/rss-dev/\n",
      "http://www.usablenet.com/\n",
      "http://web.resource.org/rss/1.0/modules/cc/\n",
      "http://www.jbisbee.com/\n",
      "http://weblog.burningbird.net/archives/000541.php\n",
      "http://southflorida.pm.org/\n",
      "http://weblog.delacour.net/archives/000707.html\n",
      "http://rss.benhammersley.com/archives/001387.html\n"
     ]
    }
   ],
   "source": [
    "impmatrix = sortedmatrix[-50:,]\n",
    "for row in impmatrix:\n",
    "    print linklabels[row[0,0]]"
   ]
  },
  {
   "cell_type": "code",
   "execution_count": null,
   "metadata": {
    "collapsed": true
   },
   "outputs": [],
   "source": []
  },
  {
   "cell_type": "code",
   "execution_count": null,
   "metadata": {
    "collapsed": false
   },
   "outputs": [],
   "source": [
    "#Lets try Robust Covariance Detector\n",
    "from sklearn.covariance import EllipticEnvelope\n",
    "clf = EllipticEnvelope(contamination=0.1)\n",
    "vectordata = vectordata.toarray()\n",
    "clf.fit(vectordata)\n",
    "y_pred = clf.decision_function(vectordata).ravel()\n",
    "threshold = stats.scoreatpercentile(y_pred, 100 * outliers_fraction)\n",
    "y_pred = y_pred > threshold\n",
    "imp_links = list(compress(linklabels, y_pred))\n",
    "imp_links[:]"
   ]
  },
  {
   "cell_type": "code",
   "execution_count": null,
   "metadata": {
    "collapsed": true
   },
   "outputs": [],
   "source": []
  },
  {
   "cell_type": "code",
   "execution_count": null,
   "metadata": {
    "collapsed": true
   },
   "outputs": [],
   "source": []
  }
 ],
 "metadata": {
  "kernelspec": {
   "display_name": "Python 2",
   "language": "python",
   "name": "python2"
  },
  "language_info": {
   "codemirror_mode": {
    "name": "ipython",
    "version": 2
   },
   "file_extension": ".py",
   "mimetype": "text/x-python",
   "name": "python",
   "nbconvert_exporter": "python",
   "pygments_lexer": "ipython2",
   "version": "2.7.3"
  }
 },
 "nbformat": 4,
 "nbformat_minor": 0
}
